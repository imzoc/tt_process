{
 "cells": [
  {
   "cell_type": "code",
   "execution_count": 1,
   "metadata": {},
   "outputs": [],
   "source": [
    "''' Import tigress_test_preprocess and declare file names\n",
    "'''\n",
    "from tt_process import Process_Json\n",
    "\n",
    "file_name_path = \"/Users/zachary/Documents/VSCode/Tigress/tigress-test-output/2022-08-14/raw_results/\"\n",
    "file_name_name = \"results_testcases_script_db_simple_20220815065119_remote_barbara_part{}_20220814T235217-700.json\"\n",
    "number_of_files = 48\n",
    "\n",
    "file_name = file_name_path + file_name_name\n",
    "file_names_list = []\n",
    "for i in range(1, number_of_files+1):\n",
    "    file_names_list.append(file_name.format(str(i)))\n",
    "\n",
    "process_json = Process_Json(file_names_list, snippet=False)"
   ]
  },
  {
   "cell_type": "code",
   "execution_count": 4,
   "metadata": {},
   "outputs": [],
   "source": [
    "''' \n",
    "'''\n",
    "process_json.tt_output_df_to_csv(\"/Users/zachary/Documents/VSCode/Tigress/out.csv\")"
   ]
  },
  {
   "cell_type": "code",
   "execution_count": 3,
   "metadata": {},
   "outputs": [
    {
     "ename": "TypeError",
     "evalue": "__init__() missing 1 required positional argument: 'file_names_list'",
     "output_type": "error",
     "traceback": [
      "\u001b[0;31m---------------------------------------------------------------------------\u001b[0m",
      "\u001b[0;31mTypeError\u001b[0m                                 Traceback (most recent call last)",
      "\u001b[0;32m/var/folders/9n/35v913ps23vf_hph4dd1l2800000gn/T/ipykernel_36108/3563220398.py\u001b[0m in \u001b[0;36m<module>\u001b[0;34m\u001b[0m\n\u001b[1;32m      6\u001b[0m '''\n\u001b[1;32m      7\u001b[0m \u001b[0;34m\u001b[0m\u001b[0m\n\u001b[0;32m----> 8\u001b[0;31m \u001b[0mprocess_json\u001b[0m \u001b[0;34m=\u001b[0m \u001b[0mProcess_Json\u001b[0m\u001b[0;34m(\u001b[0m\u001b[0;34m)\u001b[0m\u001b[0;34m\u001b[0m\u001b[0;34m\u001b[0m\u001b[0m\n\u001b[0m\u001b[1;32m      9\u001b[0m \u001b[0mX\u001b[0m \u001b[0;34m=\u001b[0m \u001b[0mprocess_json\u001b[0m\u001b[0;34m.\u001b[0m\u001b[0mtt_select_features_to_ndarray\u001b[0m\u001b[0;34m(\u001b[0m\u001b[0mfile_names_list\u001b[0m\u001b[0;34m)\u001b[0m\u001b[0;34m\u001b[0m\u001b[0;34m\u001b[0m\u001b[0m\n",
      "\u001b[0;31mTypeError\u001b[0m: __init__() missing 1 required positional argument: 'file_names_list'"
     ]
    }
   ],
   "source": [
    "''' Use Process_Json class to put all tigress data into a dictionary: \"tigress_data\".\n",
    "The dictionary has 3 keys: \"results\", \"number of files\", and \"file info\".\n",
    "The value of the \"results\" key is a dictionary with key/value pairs:\n",
    "key = test number; and value = a dictionary with key/value pairs:\n",
    "key = parameter name (such as \"status\"); and value = info (such as \"COMPLETED\").\n",
    "'''\n",
    "\n",
    "process_json = Process_Json()\n",
    "X = process_json.tt_select_features_to_ndarray(file_names_list)"
   ]
  },
  {
   "cell_type": "code",
   "execution_count": 3,
   "metadata": {},
   "outputs": [
    {
     "name": "stdout",
     "output_type": "stream",
     "text": [
      "<class 'numpy.ndarray'>\n",
      "86898\n",
      "[['TIGRESS ERROR' 'database/c_simple_source/call/' 'Virtualize']\n",
      " ['TIGRESS ERROR' 'database/c_simple_source/call/' 'Virtualize']\n",
      " ['TIGRESS ERROR' 'database/c_simple_source/struct/' 'Virtualize']\n",
      " ['TIGRESS ERROR' 'database/c_simple_source/struct/' 'Virtualize']\n",
      " ['TIGRESS ERROR' 'database/c_simple_source/literals/' 'Virtualize']\n",
      " ['TIGRESS ERROR' 'database/c_simple_source/literals/' 'Virtualize']\n",
      " ['TIGRESS ERROR' 'database/c_simple_source/literals/' 'Virtualize']\n",
      " ['TIGRESS ERROR' 'database/c_simple_source/control/' 'Virtualize']\n",
      " ['TIGRESS ERROR' 'database/c_simple_source/control/' 'Virtualize']\n",
      " ['TIGRESS ERROR' 'database/c_simple_source/control/' 'Virtualize']]\n"
     ]
    }
   ],
   "source": [
    "print(type(X))\n",
    "print(len(X))\n",
    "print(X[0:10])"
   ]
  },
  {
   "cell_type": "code",
   "execution_count": 4,
   "metadata": {},
   "outputs": [
    {
     "name": "stdout",
     "output_type": "stream",
     "text": [
      "Init: initializing centroids\n",
      "Init: initializing clusters\n",
      "Starting iterations...\n",
      "Run 1, iteration: 1/100, moves: 248, cost: 2595.0\n",
      "Init: initializing centroids\n",
      "Init: initializing clusters\n",
      "Starting iterations...\n",
      "Run 2, iteration: 1/100, moves: 1633, cost: 2433.0\n",
      "Run 2, iteration: 2/100, moves: 7, cost: 2433.0\n",
      "Best run was number 2\n"
     ]
    }
   ],
   "source": [
    "''' Time to do k-means! First, import packages and prepare data for processing.\n",
    "'''\n",
    "from kmodes.kmodes import KModes\n",
    "\n",
    "kmodes = KModes(n_clusters=100, init='Huang', n_init=2, verbose=1)\n",
    "clusters = kmodes.fit_predict(X)\n"
   ]
  },
  {
   "cell_type": "code",
   "execution_count": 7,
   "metadata": {},
   "outputs": [
    {
     "data": {
      "text/plain": [
       "array([['COMPLETED', 'database/c_simple_source/control/',\n",
       "        'AntiTaintAnalysis'],\n",
       "       ['TIGRESS ERROR', 'database/c_simple_source/arith/', 'EncodeData'],\n",
       "       ['TIGRESS ERROR', 'database/c_simple_source/control/',\n",
       "        'JitDynamic'],\n",
       "       ['TIGRESS ERROR', 'database/c_simple_source/arith/', 'SelfModify'],\n",
       "       ['TIGRESS ERROR', 'database/c_simple_source/programs/',\n",
       "        'JitDynamic'],\n",
       "       ['TIGRESS ERROR', 'database/c_simple_source/arith/',\n",
       "        'AntiBranchAnalysis'],\n",
       "       ['TIGRESS ERROR', 'database/c_simple_source/call/', 'Merge'],\n",
       "       ['TIGRESS ERROR', 'database/c_simple_source/control/',\n",
       "        'AddOpaque'],\n",
       "       ['TIGRESS ERROR', 'database/c_simple_source/call/', 'Virtualize'],\n",
       "       ['COMPLETED', 'database/c_simple_source/arith/',\n",
       "        'AntiTaintAnalysis'],\n",
       "       ['COMPLETED', 'database/c_simple_source/control/', 'SelfModify'],\n",
       "       ['COMPLETED', 'database/c_simple_source/assign/', 'SelfModify'],\n",
       "       ['COMPLETED', 'database/c_simple_source/programs/', 'SelfModify'],\n",
       "       ['COMPLETED', 'database/c_simple_source/arith/', 'SelfModify'],\n",
       "       ['TIGRESS ERROR', 'database/c_simple_source/misc/', 'JitDynamic'],\n",
       "       ['TIGRESS ERROR', 'database/c_simple_source/literals/',\n",
       "        'Virtualize'],\n",
       "       ['TIGRESS ERROR', 'database/c_simple_source/cast/', 'Virtualize'],\n",
       "       ['TIGRESS ERROR', 'database/c_simple_source/literals/', 'Merge'],\n",
       "       ['TIGRESS ERROR', 'database/c_simple_source/arith/', 'AddOpaque'],\n",
       "       ['TIGRESS ERROR', 'database/c_simple_source/misc/', 'SelfModify'],\n",
       "       ['TIGRESS ERROR', 'database/c_simple_source/arith/',\n",
       "        'AntiTaintAnalysis'],\n",
       "       ['TIGRESS ERROR', 'database/c_simple_source/control/',\n",
       "        'Virtualize'],\n",
       "       ['TIGRESS ERROR', 'database/c_simple_source/control/', 'Flatten'],\n",
       "       ['TIGRESS ERROR', 'database/c_simple_source/cast/', 'Merge'],\n",
       "       ['TIGRESS ERROR', 'database/c_simple_source/control/',\n",
       "        'AntiTaintAnalysis'],\n",
       "       ['TIGRESS ERROR', 'database/c_simple_source/assign/', 'AddOpaque'],\n",
       "       ['TIGRESS ERROR', 'database/c_simple_source/assign/', 'Jit'],\n",
       "       ['TIGRESS ERROR', 'database/c_simple_source/struct/', 'Merge'],\n",
       "       ['COMPLETED', 'database/c_simple_source/literals/',\n",
       "        'AntiTaintAnalysis'],\n",
       "       ['TIGRESS ERROR', 'database/c_simple_source/programs/',\n",
       "        'AntiBranchAnalysis'],\n",
       "       ['TIGRESS ERROR', 'database/c_simple_source/programs/', 'Flatten'],\n",
       "       ['TIGRESS ERROR', 'database/c_simple_source/struct/', 'Jit'],\n",
       "       ['TIGRESS ERROR', 'database/c_simple_source/struct/',\n",
       "        'EncodeData'],\n",
       "       ['TIGRESS ERROR', 'database/c_simple_source/literals/',\n",
       "        'AntiTaintAnalysis'],\n",
       "       ['TIGRESS ERROR', 'database/c_simple_source/assign/', 'Merge'],\n",
       "       ['TIGRESS ERROR', 'database/c_simple_source/call/', 'AddOpaque'],\n",
       "       ['COMPLETED', 'database/c_simple_source/struct/',\n",
       "        'AntiTaintAnalysis'],\n",
       "       ['TIGRESS ERROR', 'database/c_simple_source/struct/',\n",
       "        'JitDynamic'],\n",
       "       ['TIGRESS ERROR', 'database/c_simple_source/control/',\n",
       "        'EncodeData'],\n",
       "       ['TIGRESS ERROR', 'database/c_simple_source/cast/',\n",
       "        'AntiBranchAnalysis'],\n",
       "       ['TIGRESS ERROR', 'database/c_simple_source/cast/', 'Jit'],\n",
       "       ['TIGRESS ERROR', 'database/c_simple_source/cast/', 'JitDynamic'],\n",
       "       ['TIGRESS ERROR', 'database/c_simple_source/call/', 'EncodeData'],\n",
       "       ['COMPLETED', 'database/c_simple_source/literals/', 'SelfModify'],\n",
       "       ['TIGRESS ERROR', 'database/c_simple_source/programs/',\n",
       "        'AddOpaque'],\n",
       "       ['TIGRESS ERROR', 'database/c_simple_source/literals/', 'Jit'],\n",
       "       ['TIGRESS ERROR', 'database/c_simple_source/programs/',\n",
       "        'EncodeLiterals'],\n",
       "       ['COMPLETED', 'database/c_simple_source/cast/',\n",
       "        'AntiTaintAnalysis'],\n",
       "       ['TIGRESS ERROR', 'database/c_simple_source/programs/', 'Merge'],\n",
       "       ['TIGRESS ERROR', 'database/c_simple_source/struct/',\n",
       "        'AntiBranchAnalysis'],\n",
       "       ['COMPLETED', 'database/c_simple_source/call/',\n",
       "        'AntiTaintAnalysis'],\n",
       "       ['TIGRESS ERROR', 'database/c_simple_source/programs/',\n",
       "        'SelfModify'],\n",
       "       ['TIGRESS ERROR', 'database/c_simple_source/misc/', 'Merge'],\n",
       "       ['TIGRESS ERROR', 'database/c_simple_source/arith/', 'Merge'],\n",
       "       ['TIGRESS ERROR', 'database/c_simple_source/assign/',\n",
       "        'Virtualize'],\n",
       "       ['TIGRESS ERROR', 'database/c_simple_source/cast/',\n",
       "        'AntiTaintAnalysis'],\n",
       "       ['TIGRESS ERROR', 'database/c_simple_source/struct/',\n",
       "        'Virtualize'],\n",
       "       ['TIGRESS ERROR', 'database/c_simple_source/literals/', 'Flatten'],\n",
       "       ['TIGRESS ERROR', 'database/c_simple_source/programs/', 'Jit'],\n",
       "       ['COMPLETED', 'database/c_simple_source/struct/', 'SelfModify'],\n",
       "       ['TIGRESS ERROR', 'database/c_simple_source/literals/',\n",
       "        'AddOpaque'],\n",
       "       ['TIGRESS ERROR', 'database/c_simple_source/assign/',\n",
       "        'JitDynamic'],\n",
       "       ['TIGRESS ERROR', 'database/c_simple_source/call/', 'Flatten'],\n",
       "       ['TIGRESS ERROR', 'database/c_simple_source/literals/',\n",
       "        'AntiBranchAnalysis'],\n",
       "       ['TIGRESS ERROR', 'database/c_simple_source/cast/', 'EncodeData'],\n",
       "       ['TIGRESS ERROR', 'database/c_simple_source/misc/', 'Jit'],\n",
       "       ['TIGRESS ERROR', 'database/c_simple_source/struct/', 'AddOpaque'],\n",
       "       ['COMPLETED', 'database/c_simple_source/call/', 'SelfModify'],\n",
       "       ['COMPLETED', 'database/c_simple_source/assign/',\n",
       "        'AntiTaintAnalysis'],\n",
       "       ['TIGRESS ERROR', 'database/c_simple_source/call/', 'SelfModify'],\n",
       "       ['TIGRESS ERROR', 'database/c_simple_source/call/',\n",
       "        'AntiTaintAnalysis'],\n",
       "       ['COMPLETED', 'database/c_simple_source/programs/',\n",
       "        'AntiTaintAnalysis'],\n",
       "       ['TIGRESS ERROR', 'database/c_simple_source/assign/',\n",
       "        'AntiBranchAnalysis'],\n",
       "       ['COMPILER ERROR', 'database/c_simple_source/control/',\n",
       "        'EncodeArithmetic'],\n",
       "       ['TIGRESS ERROR', 'database/c_simple_source/literals/',\n",
       "        'SelfModify'],\n",
       "       ['TIGRESS ERROR', 'database/c_simple_source/programs/',\n",
       "        'Virtualize'],\n",
       "       ['TIGRESS ERROR', 'database/c_simple_source/assign/', 'Flatten'],\n",
       "       ['TIGRESS ERROR', 'database/c_simple_source/arith/', 'Jit'],\n",
       "       ['TIGRESS ERROR', 'database/c_simple_source/call/',\n",
       "        'AntiBranchAnalysis'],\n",
       "       ['TIGRESS ERROR', 'database/c_simple_source/arith/', 'Virtualize'],\n",
       "       ['TIGRESS ERROR', 'database/c_simple_source/cast/', 'AddOpaque'],\n",
       "       ['TIGRESS ERROR', 'database/c_simple_source/struct/', 'Flatten'],\n",
       "       ['TIGRESS ERROR', 'database/c_simple_source/struct/',\n",
       "        'SelfModify'],\n",
       "       ['TIGRESS ERROR', 'database/c_simple_source/programs/', 'Split'],\n",
       "       ['TIGRESS ERROR', 'database/c_simple_source/control/', 'Merge'],\n",
       "       ['TIGRESS ERROR', 'database/c_simple_source/literals/',\n",
       "        'JitDynamic'],\n",
       "       ['TIGRESS ERROR', 'database/c_simple_source/assign/',\n",
       "        'AntiTaintAnalysis'],\n",
       "       ['TIGRESS ERROR', 'database/c_simple_source/assign/',\n",
       "        'EncodeData'],\n",
       "       ['TIGRESS ERROR', 'database/c_simple_source/call/', 'Inline'],\n",
       "       ['TIGRESS ERROR', 'database/c_simple_source/call/', 'JitDynamic'],\n",
       "       ['TIGRESS ERROR', 'database/c_simple_source/control/',\n",
       "        'SelfModify'],\n",
       "       ['TIGRESS ERROR', 'database/c_simple_source/control/', 'Jit'],\n",
       "       ['TIGRESS ERROR', 'database/c_simple_source/arith/', 'JitDynamic'],\n",
       "       ['TIGRESS ERROR', 'database/c_simple_source/cast/', 'SelfModify'],\n",
       "       ['TIGRESS ERROR', 'database/c_simple_source/misc/', 'Flatten'],\n",
       "       ['TIGRESS ERROR', 'database/c_simple_source/assign/',\n",
       "        'SelfModify'],\n",
       "       ['TIGRESS ERROR', 'database/c_simple_source/cast/', 'Flatten'],\n",
       "       ['TIGRESS ERROR', 'database/c_simple_source/misc/', 'EncodeData'],\n",
       "       ['TIGRESS ERROR', 'database/c_simple_source/literals/',\n",
       "        'EncodeData'],\n",
       "       ['TIGRESS ERROR', 'database/c_simple_source/arith/', 'Flatten']],\n",
       "      dtype='<U34')"
      ]
     },
     "execution_count": 7,
     "metadata": {},
     "output_type": "execute_result"
    }
   ],
   "source": [
    "kmodes.cluster_centroids_"
   ]
  }
 ],
 "metadata": {
  "kernelspec": {
   "display_name": "base",
   "language": "python",
   "name": "python3"
  },
  "language_info": {
   "codemirror_mode": {
    "name": "ipython",
    "version": 3
   },
   "file_extension": ".py",
   "mimetype": "text/x-python",
   "name": "python",
   "nbconvert_exporter": "python",
   "pygments_lexer": "ipython3",
   "version": "3.9.7"
  },
  "orig_nbformat": 4,
  "vscode": {
   "interpreter": {
    "hash": "40d3a090f54c6569ab1632332b64b2c03c39dcf918b08424e98f38b5ae0af88f"
   }
  }
 },
 "nbformat": 4,
 "nbformat_minor": 2
}
